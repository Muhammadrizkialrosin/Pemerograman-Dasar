{
  "nbformat": 4,
  "nbformat_minor": 0,
  "metadata": {
    "colab": {
      "provenance": [],
      "authorship_tag": "ABX9TyMUYhXgnKUPNEeGgFKtu+OB",
      "include_colab_link": true
    },
    "kernelspec": {
      "name": "python3",
      "display_name": "Python 3"
    },
    "language_info": {
      "name": "python"
    }
  },
  "cells": [
    {
      "cell_type": "markdown",
      "metadata": {
        "id": "view-in-github",
        "colab_type": "text"
      },
      "source": [
        "<a href=\"https://colab.research.google.com/github/Muhammadrizkialrosin/Pemerograman-Dasar/blob/main/Praktikum_1.ipynb\" target=\"_parent\"><img src=\"https://colab.research.google.com/assets/colab-badge.svg\" alt=\"Open In Colab\"/></a>"
      ]
    },
    {
      "cell_type": "code",
      "execution_count": 15,
      "metadata": {
        "colab": {
          "base_uri": "https://localhost:8080/"
        },
        "id": "-0QUdA_TDJWQ",
        "outputId": "2a7d83be-eb35-4005-e0c8-217e71f363a2"
      },
      "outputs": [
        {
          "output_type": "stream",
          "name": "stdout",
          "text": [
            "Nama = Muhammad Rizki Al Rosin\n",
            "Umur = 20 Tahun\n",
            "Asal = Batam\n",
            "Tempat_Lahir = Batam, 04 Juni 2005\n",
            "Asal_Sekolah = SMK Multistudi High School Batam\n",
            "Alamat = Kampung Seraya, Batu Ampar\n",
            "Jurusan = Teknik Elektro\n",
            "Prodi = Teknologi Rekayasa Pembangkit Energi\n",
            "Semester = 3\n",
            "Mata_Kuliah = Pemerograman Dasar\n",
            "Status_Lulus = False\n",
            "Hobi = Hiking, Camping, Fishing, Jogging\n"
          ]
        }
      ],
      "source": [
        "#Biodata Saya\n",
        "\n",
        "Nama = \"Muhammad Rizki Al Rosin\"\n",
        "Umur = 20\n",
        "Asal = \"Batam\"\n",
        "Tempat_Lahir = \"Batam, 04 Juni 2005\"\n",
        "Asal_Sekolah = \"SMK Multistudi High School Batam\"\n",
        "Alamat = \"Kampung Seraya, Batu Ampar\"\n",
        "Jurusan = \"Teknik Elektro\"\n",
        "Prodi = \"Teknologi Rekayasa Pembangkit Energi\"\n",
        "Semester = 3\n",
        "Mata_Kuliah = \"Pemerograman Dasar\"\n",
        "Status_Lulus = False\n",
        "Hobi = \"Hiking, Camping, Fishing, Jogging\"\n",
        "\n",
        "print (\"Nama =\", Nama)\n",
        "print (\"Umur =\", Umur,\"Tahun\")\n",
        "print (\"Asal =\", Asal)\n",
        "print (\"Tempat_Lahir =\", Tempat_Lahir)\n",
        "print (\"Asal_Sekolah =\", Asal_Sekolah)\n",
        "print (\"Alamat =\", Alamat)\n",
        "print (\"Jurusan =\", Jurusan)\n",
        "print (\"Prodi =\", Prodi)\n",
        "print (\"Semester =\", Semester)\n",
        "print (\"Mata_Kuliah =\", Mata_Kuliah)\n",
        "print (\"Status_Lulus =\", Status_Lulus)\n",
        "print (\"Hobi =\", Hobi)\n",
        "\n",
        "\n",
        "\n"
      ]
    }
  ]
}