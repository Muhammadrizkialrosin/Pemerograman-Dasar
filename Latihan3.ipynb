{
  "nbformat": 4,
  "nbformat_minor": 0,
  "metadata": {
    "colab": {
      "provenance": [],
      "authorship_tag": "ABX9TyN2tr9b+3OIXfRrZHtZPxE6",
      "include_colab_link": true
    },
    "kernelspec": {
      "name": "python3",
      "display_name": "Python 3"
    },
    "language_info": {
      "name": "python"
    }
  },
  "cells": [
    {
      "cell_type": "markdown",
      "metadata": {
        "id": "view-in-github",
        "colab_type": "text"
      },
      "source": [
        "<a href=\"https://colab.research.google.com/github/Muhammadrizkialrosin/Pemerograman-Dasar/blob/main/Latihan3.ipynb\" target=\"_parent\"><img src=\"https://colab.research.google.com/assets/colab-badge.svg\" alt=\"Open In Colab\"/></a>"
      ]
    },
    {
      "cell_type": "code",
      "source": [
        "def cek_kabisat(tahun):\n",
        "    return (tahun % 4 == 0 and tahun % 100 != 0) or (tahun % 400 == 0)\n",
        "\n",
        "print(\"PROGRAM CEK TAHUN KABISAT\")\n",
        "\n",
        "while True:\n",
        "    try:\n",
        "        tahun = int(input(\"\\nMasukkan tahun (0 untuk keluar): \"))\n",
        "\n",
        "        if tahun == 0:\n",
        "            print(\"Terima kasih!\")\n",
        "            break\n",
        "\n",
        "        if cek_kabisat(tahun):\n",
        "            print(f\"✅ Tahun {tahun} adalah TAHUN KABISAT\")\n",
        "        else:\n",
        "            print(f\"❌ Tahun {tahun} BUKAN tahun kabisat\")\n",
        "\n",
        "    except ValueError:\n",
        "        print(\"❌ Input tidak valid! Masukkan angka.\")"
      ],
      "metadata": {
        "colab": {
          "base_uri": "https://localhost:8080/"
        },
        "id": "-WdKsShETaM9",
        "outputId": "41cfd1c0-c0a4-4f25-fd68-5b651057704d"
      },
      "execution_count": null,
      "outputs": [
        {
          "output_type": "stream",
          "name": "stdout",
          "text": [
            "PROGRAM CEK TAHUN KABISAT\n",
            "\n",
            "Masukkan tahun (0 untuk keluar): 20020\n",
            "✅ Tahun 20020 adalah TAHUN KABISAT\n",
            "\n",
            "Masukkan tahun (0 untuk keluar): 2020\n",
            "✅ Tahun 2020 adalah TAHUN KABISAT\n",
            "\n",
            "Masukkan tahun (0 untuk keluar): 2024\n",
            "✅ Tahun 2024 adalah TAHUN KABISAT\n"
          ]
        }
      ]
    },
    {
      "cell_type": "code",
      "source": [
        "def kalkulator():\n",
        "\n",
        "    Operasi_Berhasil = False\n",
        "\n",
        "    try:\n",
        "        angka1 = float(input(\"Masukkan angka pertama: \"))\n",
        "        angka2 = float(input(\"Masukkan angka kedua: \"))\n",
        "        operator = input(\"Pilih operasi (+, -, *, /): \")\n",
        "\n",
        "        hasil = 0\n",
        "        if operator == '+':\n",
        "            hasil = angka1 + angka2\n",
        "        elif operator == '-':\n",
        "            hasil = angka1 - angka2\n",
        "        elif operator == '*':\n",
        "            hasil = angka1 * angka2\n",
        "        elif operator == '/':\n",
        "            if angka2 == 0:\n",
        "                print(\"Error: Pembagian dengan nol tidak diizinkan.\")\n",
        "                return\n",
        "            else:\n",
        "                hasil = angka1 / angka2\n",
        "        else:\n",
        "            print(\"Error: Operator tidak dikenal.\")\n",
        "            return\n",
        "\n",
        "        Operasi_Berhasil = True\n",
        "\n",
        "    except ValueError:\n",
        "        print(\"Error: Input yang Anda masukkan bukan angka.\")\n",
        "        return\n",
        "\n",
        "    if Operasi_Berhasil:\n",
        "        print(\"---------------------------------\")\n",
        "        print(f\"Hasil dari {angka1} {operator} {angka2} adalah: {hasil}\")\n",
        "\n",
        "\n",
        "\n",
        "kalkulator()"
      ],
      "metadata": {
        "colab": {
          "base_uri": "https://localhost:8080/"
        },
        "id": "WduT4UcyKG2_",
        "outputId": "f044a2a0-fe20-4982-8756-cbd6b1d1aed4"
      },
      "execution_count": 13,
      "outputs": [
        {
          "output_type": "stream",
          "name": "stdout",
          "text": [
            "Masukkan angka pertama: 50\n",
            "Masukkan angka kedua: 10\n",
            "Pilih operasi (+, -, *, /): /\n",
            "---------------------------------\n",
            "Hasil dari 50.0 / 10.0 adalah: 5.0\n"
          ]
        }
      ]
    }
  ]
}