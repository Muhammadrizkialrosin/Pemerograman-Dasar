{
  "nbformat": 4,
  "nbformat_minor": 0,
  "metadata": {
    "colab": {
      "provenance": [],
      "authorship_tag": "ABX9TyNe0wxxEmFahHGaluL+tY68",
      "include_colab_link": true
    },
    "kernelspec": {
      "name": "python3",
      "display_name": "Python 3"
    },
    "language_info": {
      "name": "python"
    }
  },
  "cells": [
    {
      "cell_type": "markdown",
      "metadata": {
        "id": "view-in-github",
        "colab_type": "text"
      },
      "source": [
        "<a href=\"https://colab.research.google.com/github/Muhammadrizkialrosin/Pemerograman-Dasar/blob/main/Tugas2.ipynb\" target=\"_parent\"><img src=\"https://colab.research.google.com/assets/colab-badge.svg\" alt=\"Open In Colab\"/></a>"
      ]
    },
    {
      "cell_type": "code",
      "execution_count": 24,
      "metadata": {
        "colab": {
          "base_uri": "https://localhost:8080/"
        },
        "id": "peAT0MGIR684",
        "outputId": "b4fd4552-fe61-4376-d363-113ce0d239b7"
      },
      "outputs": [
        {
          "output_type": "stream",
          "name": "stdout",
          "text": [
            "TUGAS 1: MEMBUAT VARIABEL\n",
            "Lastname = Al Rosin\n",
            "Firstname = Muhammad Rizki\n",
            "Age = 20\n",
            "isMarried = False\n"
          ]
        }
      ],
      "source": [
        "print(\"TUGAS 1: MEMBUAT VARIABEL\")\n",
        "\n",
        "#Dengan anotasi (Tipe data eksplisit)\n",
        "firstname: str = \"Muhammad Rizki\"\n",
        "Lastname: str = \"Al Rosin\"\n",
        "Age: int = \"20\"\n",
        "Ismarried: bool = False\n",
        "\n",
        "\n",
        "print (\"Lastname =\", Lastname)\n",
        "print (\"Firstname =\", firstname)\n",
        "print (\"Age =\", Age)\n",
        "print (\"isMarried =\", Ismarried)\n",
        "\n"
      ]
    },
    {
      "cell_type": "code",
      "source": [
        "print(\"TUGAS 2: VARIABEL DICTIONARY\")\n",
        "\n",
        "firstName = \"Muhammad Rizki\"\n",
        "lastName = \"Al Rosin\"\n",
        "age = 20\n",
        "isMarried = False\n",
        "\n",
        "print(f\"firstName: {firstName} (tipe: {type(firstName).__name__})\")\n",
        "print(f\"lastName: {lastName} (tipe: {type(lastName).__name__})\")\n",
        "print(f\"age: {age} (tipe: {type(age).__name__})\")\n",
        "print(f\"isMarried: {isMarried} (tipe: {type(isMarried).__name__})\")\n",
        "\n",
        "# Membuat dictionary data_diri\n",
        "data_diri = {\n",
        "    \"firstName\": firstName,\n",
        "    \"lastName\": lastName,\n",
        "    \"age\": age,\n",
        "    \"isMarried\": isMarried\n",
        "}\n",
        "\n",
        "print(f\"Dictionary data_diri: {data_diri}\")\n",
        "\n"
      ],
      "metadata": {
        "colab": {
          "base_uri": "https://localhost:8080/"
        },
        "id": "uSCbCHWVVUPu",
        "outputId": "80d7099c-119a-43f8-e744-0b0d5db76f65"
      },
      "execution_count": 39,
      "outputs": [
        {
          "output_type": "stream",
          "name": "stdout",
          "text": [
            "TUGAS 2: VARIABEL DICTIONARY\n",
            "firstName: Muhammad Rizki (tipe: str)\n",
            "lastName: Al Rosin (tipe: str)\n",
            "age: 20 (tipe: int)\n",
            "isMarried: False (tipe: bool)\n",
            "Dictionary data_diri: {'firstName': 'Muhammad Rizki', 'lastName': 'Al Rosin', 'age': 20, 'isMarried': False}\n"
          ]
        }
      ]
    },
    {
      "cell_type": "code",
      "source": [
        "print(\"TUGAS 3: VARIABLE INSPEKSI\")\n",
        "\n",
        "inspeksi = [\n",
        "    \"pemahaman terhadap rencana dan desain\",\n",
        "    \"ketersediaan bahan dan peralatan\",\n",
        "    \"pengawasan pekerjaan\",\n",
        "    \"kualitas konstruksi\",\n",
        "    \"keselamatan kerja\",\n",
        "    \"koordinasi dengan pemilik proyek\",\n",
        "]\n",
        "\n",
        "print(\"Daftar Inspeksi:\")\n",
        "for i, item in enumerate(inspeksi, 1):\n",
        "    print(f\"{i}. {item}\")\n"
      ],
      "metadata": {
        "colab": {
          "base_uri": "https://localhost:8080/"
        },
        "id": "wvEFyKmETvbL",
        "outputId": "1922030b-365f-4d47-d600-141daa4f09da"
      },
      "execution_count": 82,
      "outputs": [
        {
          "output_type": "stream",
          "name": "stdout",
          "text": [
            "TUGAS 3: VARIABLE INSPEKSI\n",
            "Daftar Inspeksi:\n",
            "1. pemahaman terhadap rencana dan desain\n",
            "2. ketersediaan bahan dan peralatan\n",
            "3. pengawasan pekerjaan\n",
            "4. kualitas konstruksi\n",
            "5. keselamatan kerja\n",
            "6. koordinasi dengan pemilik proyek\n"
          ]
        }
      ]
    },
    {
      "cell_type": "code",
      "source": [
        "print(\"TUGAS 4: WAKTU DATANG DAN PULANG\")\n",
        "\n",
        "startTime = {\n",
        "    \"HH\": 9,   # jam\n",
        "    \"mm\": 23,  # menit\n",
        "    \"ss\": 57   # detik\n",
        "}\n",
        "\n",
        "endTime = {\n",
        "    \"HH\": 15,  # jam\n",
        "    \"mm\": 25,  # menit\n",
        "    \"ss\": 43   # detik\n",
        "}\n",
        "\n",
        "print(\"Waktu Datang:\")\n",
        "print(f\"Jam: {startTime['HH']:02d}:{startTime['mm']:02d}:{startTime['ss']:02d}\")\n",
        "\n",
        "print(\"Waktu Pulang:\")\n",
        "print(f\"Jam: {endTime['HH']:02d}:{endTime['mm']:02d}:{endTime['ss']:02d}\")\n",
        "\n",
        "start_total_seconds = startTime[\"HH\"] * 3600 + startTime[\"mm\"] * 60 + startTime[\"ss\"]\n",
        "end_total_seconds = endTime[\"HH\"] * 3600 + endTime[\"mm\"] * 60 + endTime[\"ss\"]\n",
        "durasi_seconds = end_total_seconds - start_total_seconds\n",
        "\n",
        "durasi_jam = durasi_seconds // 3600\n",
        "durasi_menit = (durasi_seconds % 3600) // 60\n",
        "durasi_detik = durasi_seconds % 60\n",
        "\n",
        "print(f\"\\nDurasi Kerja: {durasi_jam} jam {durasi_menit} menit {durasi_detik} detik\")\n"
      ],
      "metadata": {
        "colab": {
          "base_uri": "https://localhost:8080/"
        },
        "id": "LPaLfi-5TvcG",
        "outputId": "0ad6e8af-1387-44b0-acfb-ac3f38b22b92"
      },
      "execution_count": 57,
      "outputs": [
        {
          "output_type": "stream",
          "name": "stdout",
          "text": [
            "TUGAS 4: WAKTU DATANG DAN PULANG\n",
            "Waktu Datang:\n",
            "Jam: 09:23:57\n",
            "Waktu Pulang:\n",
            "Jam: 15:25:43\n",
            "\n",
            "Durasi Kerja: 6 jam 1 menit 46 detik\n"
          ]
        }
      ]
    },
    {
      "cell_type": "code",
      "source": [
        "print(\"TUGAS 5: KATALOG PRODUK\")\n",
        "\n",
        "katalog_A = {'Baju Kemeja', 'Celana Jeans', 'Sepatu Sneakers', 'Tas Gunung'}\n",
        "katalog_B = {'Sepatu Gunung', 'Tas Ransel', 'Jam Tangan Digital', 'Baju Kemeja'}\n",
        "\n",
        "produk_diskon = ('Sepatu Gunung', 'Jam Tangan Digital', 'Tas Gunung')\n",
        "\n",
        "katalog_lengkap = katalog_A.union(katalog_B)\n",
        "\n",
        "produk_promo_aktif = katalog_lengkap.intersection(set(produk_diskon))\n",
        "\n",
        "print(\"Katalog Lengkap (Gabungan Unik):\")\n",
        "print(katalog_lengkap)\n",
        "print(\"\\nProduk Promo yang Aktif:\")\n",
        "print(produk_promo_aktif)"
      ],
      "metadata": {
        "colab": {
          "base_uri": "https://localhost:8080/"
        },
        "id": "YNPQ2FASbH97",
        "outputId": "814d73a8-40da-42d4-bc28-87d6ecc348bc"
      },
      "execution_count": 56,
      "outputs": [
        {
          "output_type": "stream",
          "name": "stdout",
          "text": [
            "TUGAS 5: KATALOG PRODUK\n",
            "Katalog Lengkap (Gabungan Unik):\n",
            "{'Sepatu Sneakers', 'Tas Ransel', 'Jam Tangan Digital', 'Tas Gunung', 'Celana Jeans', 'Baju Kemeja', 'Sepatu Gunung'}\n",
            "\n",
            "Produk Promo yang Aktif:\n",
            "{'Tas Gunung', 'Jam Tangan Digital', 'Sepatu Gunung'}\n"
          ]
        }
      ]
    }
  ]
}