{
  "nbformat": 4,
  "nbformat_minor": 0,
  "metadata": {
    "colab": {
      "provenance": [],
      "authorship_tag": "ABX9TyM6qnH7SwbaV4iUAcPUTBkn",
      "include_colab_link": true
    },
    "kernelspec": {
      "name": "python3",
      "display_name": "Python 3"
    },
    "language_info": {
      "name": "python"
    }
  },
  "cells": [
    {
      "cell_type": "markdown",
      "metadata": {
        "id": "view-in-github",
        "colab_type": "text"
      },
      "source": [
        "<a href=\"https://colab.research.google.com/github/Muhammadrizkialrosin/Pemerograman-Dasar/blob/main/Tugas_1.ipynb\" target=\"_parent\"><img src=\"https://colab.research.google.com/assets/colab-badge.svg\" alt=\"Open In Colab\"/></a>"
      ]
    },
    {
      "cell_type": "code",
      "execution_count": 11,
      "metadata": {
        "colab": {
          "base_uri": "https://localhost:8080/"
        },
        "id": "-0QUdA_TDJWQ",
        "outputId": "099e05f1-85cc-4320-f9b4-ca01e32c23c8"
      },
      "outputs": [
        {
          "output_type": "stream",
          "name": "stdout",
          "text": [
            "Nama = Muhammad Rizki Al Rosin\n",
            "Umur = 20 Tahun\n",
            "Asal = Batam\n",
            "Tempat_Lahir = Batam, 04 Juni 2005\n",
            "Asal_Sekolah = SMK Multistudi High School Batam\n",
            "Alamat = Kampung Seraya, Batu Ampar\n",
            "Jurusan = Teknik Elektro\n",
            "Prodi = Teknologi Rekayasa Pembangkit Energi\n",
            "Semester = 3\n",
            "Mata_Kuliah = Pemerograman Dasar\n",
            "Status_Lulus = False\n",
            "Hobi = Hiking, Camping, Fishing, Jogging\n"
          ]
        }
      ],
      "source": [
        "#Biodata Saya\n",
        "\n",
        "Nama = \"Muhammad Rizki Al Rosin\"\n",
        "Umur = \"20 Tahun\"\n",
        "Asal = \"Batam\"\n",
        "Tempat_Lahir = \"Batam, 04 Juni 2005\"\n",
        "Asal_Sekolah = \"SMK Multistudi High School Batam\"\n",
        "Alamat = \"Kampung Seraya, Batu Ampar\"\n",
        "Jurusan = \"Teknik Elektro\"\n",
        "Prodi = \"Teknologi Rekayasa Pembangkit Energi\"\n",
        "Semester = \"3\"\n",
        "Mata_Kuliah = \"Pemerograman Dasar\"\n",
        "Status_Lulus = False\n",
        "Hobi = \"Hiking, Camping, Fishing, Jogging\"\n",
        "\n",
        "print (\"Nama =\", Nama);\n",
        "print (\"Umur =\", Umur);\n",
        "print (\"Asal =\", Asal)\n",
        "print (\"Tempat_Lahir =\", Tempat_Lahir)\n",
        "print (\"Asal_Sekolah =\", Asal_Sekolah)\n",
        "print (\"Alamat =\", Alamat)\n",
        "print (\"Jurusan =\", Jurusan)\n",
        "print (\"Prodi =\", Prodi)\n",
        "print (\"Semester =\", Semester)\n",
        "print (\"Mata_Kuliah =\", Mata_Kuliah)\n",
        "print (\"Status_Lulus =\", Status_Lulus)\n",
        "print (\"Hobi =\", Hobi)\n",
        "\n",
        "\n",
        "\n"
      ]
    }
  ]
}